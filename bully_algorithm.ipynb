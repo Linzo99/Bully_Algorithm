{
 "cells": [
  {
   "cell_type": "code",
   "execution_count": 2,
   "id": "2d75d182",
   "metadata": {},
   "outputs": [],
   "source": [
    "from group import Group\n",
    "from member import Member\n",
    "grp = Group(\"bittech\")\n",
    "alioune = Member(\"alioune\", grp)\n",
    "medoune = Member(\"medoune\", grp)\n",
    "moussa = Member(\"moussa\", grp)\n",
    "alex = Member(\"alex\", grp)\n",
    "grp.choose_leader()"
   ]
  },
  {
   "cell_type": "code",
   "execution_count": 3,
   "id": "87f71ebf",
   "metadata": {},
   "outputs": [
    {
     "name": "stdout",
     "output_type": "stream",
     "text": [
      "[alioune - 3, medoune - 8, moussa - 8, alex - 1]\n",
      "Current group leader: medoune\n"
     ]
    }
   ],
   "source": [
    "print(grp.members)\n",
    "print(\"Current group leader:\",grp.leader)"
   ]
  },
  {
   "cell_type": "code",
   "execution_count": 4,
   "id": "2e909bff",
   "metadata": {},
   "outputs": [],
   "source": [
    "grp.leader.is_active = False"
   ]
  },
  {
   "cell_type": "code",
   "execution_count": 5,
   "id": "da0709ba",
   "metadata": {},
   "outputs": [
    {
     "name": "stdout",
     "output_type": "stream",
     "text": [
      "[alex]: sending msg to medoune\n",
      "[!] Election request sent by [alex]\n",
      "[alex]: sending msg to alioune\n",
      "[!] Election request sent by [alioune]\n",
      "[alioune]: sending msg to moussa\n",
      "[!] Election request sent by [moussa]\n",
      "Updating the group leader...\n",
      "[moussa]: sending msg to alioune\n",
      "[alioune] Got a new leader: moussa\n",
      "[moussa]: sending msg to medoune\n",
      "[moussa]: sending msg to alex\n",
      "[alex] Got a new leader: moussa\n",
      "[alex]: sending msg to medoune\n"
     ]
    }
   ],
   "source": [
    "alex.send(\"hi\", grp.leader)"
   ]
  },
  {
   "cell_type": "code",
   "execution_count": 6,
   "id": "cb8bdc69",
   "metadata": {
    "scrolled": false
   },
   "outputs": [
    {
     "data": {
      "text/plain": [
       "moussa - 8"
      ]
     },
     "execution_count": 6,
     "metadata": {},
     "output_type": "execute_result"
    }
   ],
   "source": [
    "grp.leader"
   ]
  }
 ],
 "metadata": {
  "kernelspec": {
   "display_name": "Python 3",
   "language": "python",
   "name": "python3"
  },
  "language_info": {
   "codemirror_mode": {
    "name": "ipython",
    "version": 3
   },
   "file_extension": ".py",
   "mimetype": "text/x-python",
   "name": "python",
   "nbconvert_exporter": "python",
   "pygments_lexer": "ipython3",
   "version": "3.6.9"
  }
 },
 "nbformat": 4,
 "nbformat_minor": 5
}
